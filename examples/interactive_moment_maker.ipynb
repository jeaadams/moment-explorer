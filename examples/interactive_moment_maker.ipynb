{
 "cells": [
  {
   "cell_type": "markdown",
   "metadata": {},
   "source": [
    "# Interactive Moment Map Explorer\n",
    "\n",
    "This notebook demonstrates the `moment-explorer` package for interactive moment map visualization using Plotly.\n",
    "\n",
    "## Features\n",
    "\n",
    "- 🔭 **Multi-Cube Explorer** - Dropdown to switch between cubes\n",
    "- 📊 **Moment Maps** - M0, M1, M8, M9 with interactive controls\n",
    "- 🔍 **Cube Viewer** - Channel-by-channel visualization with mask overlay\n",
    "- ⚙️ **Sigma Clipping** - Optional noise filtering with smart warnings\n",
    "- 💾 **FITS Export** - Save moment maps with one click"
   ]
  },
  {
   "cell_type": "code",
   "execution_count": 1,
   "metadata": {},
   "outputs": [],
   "source": [
    "# # Install the package in development mode (run once)\n",
    "# !pip install -e .."
   ]
  },
  {
   "cell_type": "code",
   "execution_count": 2,
   "metadata": {},
   "outputs": [],
   "source": [
    "import os\n",
    "import sys\n",
    "\n",
    "# Add the src directory to the path (for development)\n",
    "sys.path.insert(0, os.path.abspath('../src'))\n",
    "\n",
    "from moment_explorer import (\n",
    "    create_interactive_explorer,\n",
    "    create_multi_cube_explorer,\n",
    "    create_cube_viewer,\n",
    "    create_launcher_ui\n",
    ")"
   ]
  },
  {
   "cell_type": "markdown",
   "metadata": {},
   "source": [
    "## Configuration: Available Cubes\n",
    "\n",
    "Define the paths to your FITS cubes and masks."
   ]
  },
  {
   "cell_type": "code",
   "execution_count": 3,
   "metadata": {},
   "outputs": [
    {
     "name": "stdout",
     "output_type": "stream",
     "text": [
      "Available cubes:\n",
      "  - N2H+ (2013SG2)\n",
      "  - HCN (2013SG1)\n",
      "  - HCO+ (2013SG1)\n",
      "  - 13CO (2015)\n",
      "  - C18O (2015)\n",
      "  - CN SPW1 (2015)\n",
      "  - CN SPW3 (2015)\n"
     ]
    }
   ],
   "source": [
    "base_path = '/Users/jea/AATau/cleaning_data/'\n",
    "\n",
    "# Available cubes\n",
    "available_cubes = {\n",
    "    'N2H+ (2013SG2)': {\n",
    "        'cube': os.path.join(base_path, 'fits_2013SG2/AATau_N2H+_clean1_contsub.fits'),\n",
    "        'mask': os.path.join(base_path, 'fits_2013SG2/AATau_N2H+_clean0_contsub.mask.fits'),\n",
    "        'name': 'N$_2$H$^+$'\n",
    "    },\n",
    "    'HCN (2013SG1)': {\n",
    "        'cube': os.path.join(base_path, 'fits_2013SG1/AATau_HCN_clean1_contsub.fits'),\n",
    "        'mask': os.path.join(base_path, 'fits_2013SG1/AATau_HCN_clean0_contsub.mask.fits'),\n",
    "        'name': 'HCN'\n",
    "    },\n",
    "    'HCO+ (2013SG1)': {\n",
    "        'cube': os.path.join(base_path, 'fits_2013SG1/AATau_HCO+_clean1_contsub.fits'),\n",
    "        'mask': os.path.join(base_path, 'fits_2013SG1/AATau_HCO+_clean0_contsub.mask.fits'),\n",
    "        'name': 'HCO$^{+}$'\n",
    "    },\n",
    "    '13CO (2015)': {\n",
    "        'cube': os.path.join(base_path, 'fits_2015/AATau_13CO_clean1_contsub.fits'),\n",
    "        'mask': os.path.join(base_path, 'fits_2015/AATau_13CO_clean0_contsub.mask.fits'),\n",
    "        'name': '$^{13}$CO'\n",
    "    },\n",
    "    'C18O (2015)': {\n",
    "        'cube': os.path.join(base_path, 'fits_2015/AATau_C18O_clean1_contsub.fits'),\n",
    "        'mask': os.path.join(base_path, 'fits_2015/AATau_C18O_clean0_contsub.mask.fits'),\n",
    "        'name': 'C$^{18}$O'\n",
    "    },\n",
    "    'CN SPW1 (2015)': {\n",
    "        'cube': os.path.join(base_path, 'fits_2015/AATau_CN_SPW1_clean1_contsub.fits'),\n",
    "        'mask': os.path.join(base_path, 'fits_2015/AATau_CN_SPW1_clean0_contsub.mask.fits'),\n",
    "        'name': 'CN J=7/2-5/2'\n",
    "    },\n",
    "    'CN SPW3 (2015)': {\n",
    "        'cube': os.path.join(base_path, 'fits_2015/AATau_CN_SPW3_clean1_contsub.fits'),\n",
    "        'mask': os.path.join(base_path, 'fits_2015/AATau_CN_SPW3_clean0_contsub.mask.fits'),\n",
    "        'name': 'CN J=5/2-3/2'\n",
    "    }\n",
    "}\n",
    "\n",
    "print(\"Available cubes:\")\n",
    "for key in available_cubes.keys():\n",
    "    print(f\"  - {key}\")"
   ]
  },
  {
   "cell_type": "markdown",
   "metadata": {},
   "source": [
    "---\n",
    "\n",
    "# Option 1: Multi-Cube Explorer (Recommended)\n",
    "\n",
    "**NEW!** Switch between multiple cubes using a dropdown selector.\n",
    "\n",
    "### Features:\n",
    "- Dropdown menu to select which cube to view\n",
    "- Automatic reloading when switching cubes\n",
    "- All standard controls (moment type, channels, clipping, etc.)\n",
    "- Sigma clipping now works for all moment types!\n",
    "- Smart warnings when using clipping with M0"
   ]
  },
  {
   "cell_type": "code",
   "execution_count": 4,
   "metadata": {},
   "outputs": [
    {
     "name": "stdout",
     "output_type": "stream",
     "text": [
      "Prefix-sum optimization enabled for M0/M1\n",
      "Note: Using standard Heatmap (Heatmapgl not available). Performance may be slower for large maps.\n"
     ]
    },
    {
     "data": {
      "application/vnd.jupyter.widget-view+json": {
       "model_id": "c3e05bea137647d0bc6a6dcaa9fdce5c",
       "version_major": 2,
       "version_minor": 0
      },
      "text/plain": [
       "VBox(children=(HBox(children=(Dropdown(description='Cube:', options=('N2H+ (2013SG2)', 'HCN (2013SG1)', 'HCO+ …"
      ]
     },
     "metadata": {},
     "output_type": "display_data"
    }
   ],
   "source": [
    "# Create multi-cube explorer with dropdown selector\n",
    "explorer, ui, selector = create_multi_cube_explorer(\n",
    "    available_cubes,\n",
    "    enable_prefix_sums=True,\n",
    "    default_cube='N2H+ (2013SG2)'  # Optional: which cube to load first\n",
    ")"
   ]
  },
  {
   "cell_type": "markdown",
   "metadata": {},
   "source": [
    "### 💡 Usage Tips\n",
    "\n",
    "**Sigma Clipping Guide:**\n",
    "- **M0 (Integrated Intensity)**: Set Clip σ = 0 (no clipping recommended)\n",
    "  - Clipping excludes faint emission and underestimates total flux\n",
    "  - Orange warning appears if you enable clipping for M0\n",
    "- **M1 (Velocity)**: Set Clip σ = 3-5 (clipping recommended)\n",
    "  - Excludes noisy pixels from velocity measurements\n",
    "- **M8 (Peak)**: Set Clip σ = 0 (peak is already robust)\n",
    "- **M9 (Linewidth)**: Set Clip σ = 3-5 (clipping recommended)\n",
    "  - Prevents noise from broadening the line\n",
    "\n",
    "**Auto-Apply:**\n",
    "- Enable for smooth exploration (updates after ~200ms)\n",
    "- Disable for precise control (use Apply button)\n",
    "\n",
    "**Switching Cubes:**\n",
    "- Use the dropdown at the top\n",
    "- Channel sliders automatically adjust to new cube\n",
    "- Moment map regenerates with same settings"
   ]
  },
  {
   "cell_type": "markdown",
   "metadata": {},
   "source": [
    "---\n",
    "\n",
    "# Option 2: Single Cube Explorer\n",
    "\n",
    "If you only need one cube at a time:"
   ]
  },
  {
   "cell_type": "code",
   "execution_count": 6,
   "metadata": {},
   "outputs": [
    {
     "name": "stdout",
     "output_type": "stream",
     "text": [
      "Cube loaded: (100, 500, 500)\n",
      "Velocity range: -3000.00 to 26700.00 km/s\n",
      "RMS: 3.878e-03\n",
      "Prefix-sum optimization enabled for M0/M1\n",
      "Note: Using standard Heatmap (Heatmapgl not available). Performance may be slower for large maps.\n"
     ]
    },
    {
     "data": {
      "application/vnd.jupyter.widget-view+json": {
       "model_id": "3109d30f5d144467875a6fc3d6fa259a",
       "version_major": 2,
       "version_minor": 0
      },
      "text/plain": [
       "VBox(children=(HBox(children=(VBox(children=(Dropdown(description='Moment:', options=('M0', 'M1', 'M8', 'M9'),…"
      ]
     },
     "metadata": {},
     "output_type": "display_data"
    }
   ],
   "source": [
    "# Select a cube\n",
    "selected_cube = 'N2H+ (2013SG2)'\n",
    "\n",
    "cube_info = available_cubes[selected_cube]\n",
    "cube_path = cube_info['cube']\n",
    "mask_path = cube_info['mask']\n",
    "\n",
    "# Create the interactive explorer\n",
    "explorer_single, ui_single = create_interactive_explorer(\n",
    "    cube_path=cube_path,\n",
    "    mask_path=mask_path,\n",
    "    enable_prefix_sums=True\n",
    ")"
   ]
  },
  {
   "cell_type": "markdown",
   "metadata": {},
   "source": [
    "---\n",
    "\n",
    "# Option 3: Cube Viewer (Channel Explorer)\n",
    "\n",
    "**NEW!** Explore individual channels with mask overlay.\n",
    "\n",
    "### Features:\n",
    "- Channel slider to navigate through cube\n",
    "- Red contour overlay showing mask boundaries\n",
    "- vmin/vmax controls for intensity scaling\n",
    "- Auto-scale option (1st to 99th percentile)\n",
    "- Multiple colormap options\n",
    "\n",
    "### Use Cases:\n",
    "- Find emission channels before creating moment maps\n",
    "- Verify mask coverage across channels\n",
    "- Check for artifacts or bad channels\n",
    "- Explore velocity structure"
   ]
  },
  {
   "cell_type": "code",
   "execution_count": 7,
   "metadata": {},
   "outputs": [
    {
     "name": "stdout",
     "output_type": "stream",
     "text": [
      "Cube loaded: (100, 500, 500)\n",
      "Velocity range: -3000.00 to 26700.00 km/s\n",
      "Number of channels: 100\n"
     ]
    },
    {
     "data": {
      "application/vnd.jupyter.widget-view+json": {
       "model_id": "5280f1366e144ee88a50e64b4aa209f6",
       "version_major": 2,
       "version_minor": 0
      },
      "text/plain": [
       "VBox(children=(HBox(children=(VBox(children=(IntSlider(value=50, continuous_update=False, description='Channel…"
      ]
     },
     "metadata": {},
     "output_type": "display_data"
    }
   ],
   "source": [
    "# Create cube viewer\n",
    "viewer = create_cube_viewer(\n",
    "    cube_path=cube_info['cube'],\n",
    "    mask_path=cube_info['mask']\n",
    ")"
   ]
  },
  {
   "cell_type": "markdown",
   "metadata": {},
   "source": [
    "### 💡 Cube Viewer Workflow\n",
    "\n",
    "1. **Find emission channels**\n",
    "   - Enable \"Auto-scale intensity\"\n",
    "   - Move channel slider through cube\n",
    "   - Note which channels show emission\n",
    "\n",
    "2. **Verify mask**\n",
    "   - Enable \"Show mask contour\"\n",
    "   - Check that red contour matches emission\n",
    "   - Look for channels where mask is too small/large\n",
    "\n",
    "3. **Check data quality**\n",
    "   - Go to line-free channels (edges)\n",
    "   - Note vmax value (≈ noise level)\n",
    "   - Look for artifacts or bad pixels\n",
    "\n",
    "4. **Use in Moment Map Explorer**\n",
    "   - Use found channel range in moment map explorer\n",
    "   - Generate M0, M1, M8, M9 maps\n",
    "   - Save to FITS"
   ]
  },
  {
   "cell_type": "markdown",
   "metadata": {},
   "source": [
    "---\n",
    "\n",
    "# Option 4: Launcher UI (File Browser)\n",
    "\n",
    "**NEW!** Interactive file selection interface."
   ]
  },
  {
   "cell_type": "code",
   "execution_count": 8,
   "metadata": {},
   "outputs": [
    {
     "data": {
      "application/vnd.jupyter.widget-view+json": {
       "model_id": "330257ed44d543129bcab97afde0e4f5",
       "version_major": 2,
       "version_minor": 0
      },
      "text/plain": [
       "VBox(children=(HTML(value='<h2>🔭 Moment Explorer Launcher</h2>'), HTML(value='<p>Select your FITS cube and opt…"
      ]
     },
     "metadata": {},
     "output_type": "display_data"
    }
   ],
   "source": [
    "# Display launcher UI\n",
    "# Fill in paths and click \"Launch Explorer\"\n",
    "from IPython.display import display\n",
    "display(create_launcher_ui())"
   ]
  },
  {
   "cell_type": "markdown",
   "metadata": {},
   "source": [
    "---\n",
    "\n",
    "# Advanced: Programmatic Usage\n",
    "\n",
    "Use the package without the UI for batch processing or custom workflows."
   ]
  },
  {
   "cell_type": "code",
   "execution_count": null,
   "metadata": {},
   "outputs": [],
   "source": [
    "from moment_explorer import MomentMapExplorer\n",
    "import matplotlib.pyplot as plt\n",
    "import numpy as np\n",
    "\n",
    "# Create explorer\n",
    "explorer_adv = MomentMapExplorer()\n",
    "explorer_adv.load_cube(cube_path, mask_path)\n",
    "\n",
    "# Generate moment maps with different clipping\n",
    "print(\"\\n=== M0 Comparison: No Clipping vs Clipping ===\")\n",
    "\n",
    "# M0 without clipping (recommended)\n",
    "M0_noclip, time_noclip = explorer_adv.generate(\n",
    "    moment='M0',\n",
    "    first=30,\n",
    "    last=70,\n",
    "    clip_sigma=0.0,  # No clipping\n",
    "    use_mask=True\n",
    ")\n",
    "\n",
    "# M0 with clipping (not recommended)\n",
    "M0_clip, time_clip = explorer_adv.generate(\n",
    "    moment='M0',\n",
    "    first=30,\n",
    "    last=70,\n",
    "    clip_sigma=3.0,  # With clipping\n",
    "    use_mask=True\n",
    ")\n",
    "\n",
    "# Compare\n",
    "total_flux_noclip = np.nansum(M0_noclip)\n",
    "total_flux_clip = np.nansum(M0_clip)\n",
    "flux_lost = (1 - total_flux_clip / total_flux_noclip) * 100\n",
    "\n",
    "print(f\"\\nNo clipping: Total flux = {total_flux_noclip:.3e}\")\n",
    "print(f\"With clipping (3σ): Total flux = {total_flux_clip:.3e}\")\n",
    "print(f\"Flux lost to clipping: {flux_lost:.1f}%\")\n",
    "print(f\"\\n⚠️  This is why clipping is NOT recommended for M0!\")\n",
    "\n",
    "# Plot comparison\n",
    "fig, axes = plt.subplots(1, 2, figsize=(14, 6))\n",
    "\n",
    "im0 = axes[0].imshow(M0_noclip, origin='lower', cmap='viridis')\n",
    "plt.colorbar(im0, ax=axes[0], label='Integrated Intensity')\n",
    "axes[0].set_title(f'M0 - No Clipping\\nTotal Flux: {total_flux_noclip:.3e}')\n",
    "\n",
    "im1 = axes[1].imshow(M0_clip, origin='lower', cmap='viridis')\n",
    "plt.colorbar(im1, ax=axes[1], label='Integrated Intensity')\n",
    "axes[1].set_title(f'M0 - With 3σ Clipping\\nTotal Flux: {total_flux_clip:.3e}\\n({flux_lost:.1f}% lost)')\n",
    "\n",
    "plt.tight_layout()\n",
    "plt.show()"
   ]
  },
  {
   "cell_type": "markdown",
   "metadata": {},
   "source": [
    "## Generate All Moment Types"
   ]
  },
  {
   "cell_type": "code",
   "execution_count": null,
   "metadata": {},
   "outputs": [],
   "source": [
    "# Generate all moment types with recommended settings\n",
    "moments_to_generate = [\n",
    "    {'moment': 'M0', 'clip_sigma': 0.0, 'label': 'Integrated Intensity'},\n",
    "    {'moment': 'M1', 'clip_sigma': 3.0, 'label': 'Velocity [km/s]'},\n",
    "    {'moment': 'M8', 'clip_sigma': 0.0, 'label': 'Peak Intensity'},\n",
    "    {'moment': 'M9', 'clip_sigma': 3.0, 'label': 'Linewidth [km/s]'}\n",
    "]\n",
    "\n",
    "fig, axes = plt.subplots(2, 2, figsize=(14, 12))\n",
    "axes = axes.flatten()\n",
    "\n",
    "for idx, config in enumerate(moments_to_generate):\n",
    "    moment_map, compute_time = explorer_adv.generate(\n",
    "        moment=config['moment'],\n",
    "        first=30,\n",
    "        last=70,\n",
    "        clip_sigma=config['clip_sigma'],\n",
    "        use_mask=True\n",
    "    )\n",
    "    \n",
    "    cmap = 'RdBu_r' if config['moment'] == 'M1' else 'viridis'\n",
    "    im = axes[idx].imshow(moment_map, origin='lower', cmap=cmap)\n",
    "    plt.colorbar(im, ax=axes[idx], label=config['label'])\n",
    "    axes[idx].set_title(\n",
    "        f\"{config['moment']} - {config['label']}\\n\"\n",
    "        f\"Clip σ = {config['clip_sigma']} ({compute_time*1000:.1f} ms)\"\n",
    "    )\n",
    "\n",
    "plt.tight_layout()\n",
    "plt.show()"
   ]
  },
  {
   "cell_type": "markdown",
   "metadata": {},
   "source": [
    "## Performance Comparison: Standard vs Prefix-Sum"
   ]
  },
  {
   "cell_type": "code",
   "execution_count": null,
   "metadata": {},
   "outputs": [],
   "source": [
    "import time\n",
    "\n",
    "# Test parameters\n",
    "test_params = {\n",
    "    'moment': 'M0',\n",
    "    'first': 30,\n",
    "    'last': 70,\n",
    "    'clip_sigma': 0.0,\n",
    "    'use_mask': True\n",
    "}\n",
    "\n",
    "# Standard method\n",
    "explorer_std = MomentMapExplorer()\n",
    "explorer_std.load_cube(cube_path, mask_path)\n",
    "explorer_std.enable_prefix_sums(False)\n",
    "\n",
    "_, time_std = explorer_std.generate(**test_params)\n",
    "\n",
    "# Prefix-sum method\n",
    "explorer_prefix = MomentMapExplorer()\n",
    "explorer_prefix.load_cube(cube_path, mask_path)\n",
    "explorer_prefix.enable_prefix_sums(True)\n",
    "\n",
    "_, time_prefix = explorer_prefix.generate(**test_params)\n",
    "\n",
    "print(f\"Standard method: {time_std*1000:.1f} ms\")\n",
    "print(f\"Prefix-sum method: {time_prefix*1000:.1f} ms\")\n",
    "print(f\"Speedup: {time_std/time_prefix:.2f}x\")"
   ]
  },
  {
   "cell_type": "markdown",
   "metadata": {},
   "source": [
    "---\n",
    "\n",
    "# Summary\n",
    "\n",
    "This notebook demonstrates:\n",
    "\n",
    "1. ✅ **Multi-Cube Explorer** - Dropdown selector for multiple cubes\n",
    "2. ✅ **Cube Viewer** - Channel-by-channel exploration with mask overlay\n",
    "3. ✅ **Sigma Clipping** - Available for all moment types with smart warnings\n",
    "4. ✅ **Launcher UI** - Interactive file selection\n",
    "5. ✅ **Programmatic API** - Batch processing and custom workflows\n",
    "\n",
    "## Key Takeaways\n",
    "\n",
    "- **M0**: Always use Clip σ = 0 (no clipping) to preserve total flux\n",
    "- **M1/M9**: Use Clip σ = 3-5 to exclude noise\n",
    "- **Cube Viewer**: Use to find emission channels before making moment maps\n",
    "- **Prefix Sums**: Enable for 2-5x faster M0/M1 computation\n",
    "\n",
    "## Documentation\n",
    "\n",
    "- [README.md](../README.md) - Main documentation\n",
    "- [SIGMA_CLIPPING_GUIDE.md](../SIGMA_CLIPPING_GUIDE.md) - Clipping best practices\n",
    "- [CUBE_VIEWER_GUIDE.md](../CUBE_VIEWER_GUIDE.md) - Channel viewer usage\n",
    "- [MULTI_CUBE_EXAMPLE.md](../MULTI_CUBE_EXAMPLE.md) - Multi-cube explorer guide"
   ]
  }
 ],
 "metadata": {
  "kernelspec": {
   "display_name": "Python 3",
   "language": "python",
   "name": "python3"
  },
  "language_info": {
   "codemirror_mode": {
    "name": "ipython",
    "version": 3
   },
   "file_extension": ".py",
   "mimetype": "text/x-python",
   "name": "python",
   "nbconvert_exporter": "python",
   "pygments_lexer": "ipython3",
   "version": "3.10.0"
  }
 },
 "nbformat": 4,
 "nbformat_minor": 4
}
