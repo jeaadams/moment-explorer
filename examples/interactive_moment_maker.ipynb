{
 "cells": [
  {
   "cell_type": "markdown",
   "metadata": {},
   "source": [
    "# Interactive Moment Map Explorer\n",
    "\n",
    "This notebook demonstrates the use of the `moment-explorer` package for interactive moment map visualization using Plotly."
   ]
  },
  {
   "cell_type": "code",
   "execution_count": null,
   "metadata": {},
   "outputs": [],
   "source": [
    "# Install the package in development mode (run once)\n",
    "# !pip install -e .."
   ]
  },
  {
   "cell_type": "code",
   "execution_count": null,
   "metadata": {},
   "outputs": [],
   "source": [
    "import os\n",
    "import sys\n",
    "\n",
    "# Add the src directory to the path (for development)\n",
    "sys.path.insert(0, os.path.abspath('../src'))\n",
    "\n",
    "from moment_explorer import create_interactive_explorer"
   ]
  },
  {
   "cell_type": "markdown",
   "metadata": {},
   "source": [
    "## Configuration: Available Cubes\n",
    "\n",
    "Define the paths to your FITS cubes and masks."
   ]
  },
  {
   "cell_type": "code",
   "execution_count": null,
   "metadata": {},
   "outputs": [],
   "source": [
    "base_path = '/Users/jea/AATau/cleaning_data/'\n",
    "\n",
    "# Available cubes\n",
    "available_cubes = {\n",
    "    'N2H+ (2013SG2)': {\n",
    "        'cube': os.path.join(base_path, 'fits_2013SG2/AATau_N2H+_clean1_contsub.fits'),\n",
    "        'mask': os.path.join(base_path, 'fits_2013SG2/AATau_N2H+_clean0_contsub.mask.fits'),\n",
    "        'name': 'N$_2$H$^+$'\n",
    "    },\n",
    "    'HCN (2013SG1)': {\n",
    "        'cube': os.path.join(base_path, 'fits_2013SG1/AATau_HCN_clean1_contsub.fits'),\n",
    "        'mask': os.path.join(base_path, 'fits_2013SG1/AATau_HCN_clean0_contsub.mask.fits'),\n",
    "        'name': 'HCN'\n",
    "    },\n",
    "    'HCO+ (2013SG1)': {\n",
    "        'cube': os.path.join(base_path, 'fits_2013SG1/AATau_HCO+_clean1_contsub.fits'),\n",
    "        'mask': os.path.join(base_path, 'fits_2013SG1/AATau_HCO+_clean0_contsub.mask.fits'),\n",
    "        'name': 'HCO$^{+}$'\n",
    "    },\n",
    "    '13CO (2015)': {\n",
    "        'cube': os.path.join(base_path, 'fits_2015/AATau_13CO_clean1_contsub.fits'),\n",
    "        'mask': os.path.join(base_path, 'fits_2015/AATau_13CO_clean0_contsub.mask.fits'),\n",
    "        'name': '$^{13}$CO'\n",
    "    },\n",
    "    'C18O (2015)': {\n",
    "        'cube': os.path.join(base_path, 'fits_2015/AATau_C18O_clean1_contsub.fits'),\n",
    "        'mask': os.path.join(base_path, 'fits_2015/AATau_C18O_clean0_contsub.mask.fits'),\n",
    "        'name': 'C$^{18}$O'\n",
    "    },\n",
    "    'CN SPW1 (2015)': {\n",
    "        'cube': os.path.join(base_path, 'fits_2015/AATau_CN_SPW1_clean1_contsub.fits'),\n",
    "        'mask': os.path.join(base_path, 'fits_2015/AATau_CN_SPW1_clean0_contsub.mask.fits'),\n",
    "        'name': 'CN J=7/2-5/2'\n",
    "    },\n",
    "    'CN SPW3 (2015)': {\n",
    "        'cube': os.path.join(base_path, 'fits_2015/AATau_CN_SPW3_clean1_contsub.fits'),\n",
    "        'mask': os.path.join(base_path, 'fits_2015/AATau_CN_SPW3_clean0_contsub.mask.fits'),\n",
    "        'name': 'CN J=5/2-3/2'\n",
    "    }\n",
    "}\n",
    "\n",
    "print(\"Available cubes:\")\n",
    "for key in available_cubes.keys():\n",
    "    print(f\"  - {key}\")"
   ]
  },
  {
   "cell_type": "markdown",
   "metadata": {},
   "source": [
    "## Interactive Explorer\n",
    "\n",
    "Select a cube from the list above and create an interactive explorer.\n",
    "\n",
    "### Features:\n",
    "- **Persistent zoom/pan**: Your view is preserved when updating parameters\n",
    "- **Debounced updates**: Enable \"Auto-apply\" for smooth, delayed updates (~200ms)\n",
    "- **Manual control**: Disable \"Auto-apply\" and use the Apply button for precise control\n",
    "- **Multiple moment types**: M0 (integrated intensity), M1 (velocity), M8 (peak), M9 (linewidth)\n",
    "- **Color scale options**: Viridis, Cividis, Magma, Plasma, RdBu_r, Jet\n",
    "- **Save to FITS**: Export your current moment map"
   ]
  },
  {
   "cell_type": "code",
   "execution_count": null,
   "metadata": {},
   "outputs": [],
   "source": [
    "# Select a cube\n",
    "selected_cube = 'N2H+ (2013SG2)'  # Change this to explore different cubes\n",
    "\n",
    "cube_info = available_cubes[selected_cube]\n",
    "cube_path = cube_info['cube']\n",
    "mask_path = cube_info['mask']\n",
    "\n",
    "# Create the interactive explorer\n",
    "# Set enable_prefix_sums=True for faster M0/M1 computation (uses more memory)\n",
    "explorer, ui = create_interactive_explorer(\n",
    "    cube_path=cube_path,\n",
    "    mask_path=mask_path,\n",
    "    enable_prefix_sums=True\n",
    ")"
   ]
  },
  {
   "cell_type": "markdown",
   "metadata": {},
   "source": [
    "## Advanced Usage\n",
    "\n",
    "You can also use the package programmatically without the UI."
   ]
  },
  {
   "cell_type": "code",
   "execution_count": null,
   "metadata": {},
   "outputs": [],
   "source": [
    "from moment_explorer import MomentMapExplorer\n",
    "import matplotlib.pyplot as plt\n",
    "\n",
    "# Create explorer\n",
    "explorer_adv = MomentMapExplorer()\n",
    "explorer_adv.load_cube(cube_path, mask_path)\n",
    "\n",
    "# Generate a moment map\n",
    "moment_map, compute_time = explorer_adv.generate(\n",
    "    moment='M0',\n",
    "    first=30,\n",
    "    last=70,\n",
    "    clip_sigma=3.0,\n",
    "    use_mask=True\n",
    ")\n",
    "\n",
    "print(f\"Compute time: {compute_time*1000:.1f} ms\")\n",
    "\n",
    "# Plot with matplotlib\n",
    "fig, ax = plt.subplots(figsize=(8, 7))\n",
    "im = ax.imshow(moment_map, origin='lower', cmap='viridis')\n",
    "plt.colorbar(im, ax=ax, label='Integrated Intensity')\n",
    "ax.set_title(cube_info['name'] + ' - Moment 0')\n",
    "plt.show()\n",
    "\n",
    "# Save to FITS\n",
    "# output_path = explorer_adv.save()\n",
    "# print(f\"Saved to: {output_path}\")"
   ]
  },
  {
   "cell_type": "markdown",
   "metadata": {},
   "source": [
    "## Performance Comparison: Standard vs Prefix-Sum\n",
    "\n",
    "Compare computation times with and without prefix-sum optimization."
   ]
  },
  {
   "cell_type": "code",
   "execution_count": null,
   "metadata": {},
   "outputs": [],
   "source": [
    "import time\n",
    "\n",
    "# Test parameters\n",
    "test_params = {\n",
    "    'moment': 'M0',\n",
    "    'first': 30,\n",
    "    'last': 70,\n",
    "    'clip_sigma': 3.0,\n",
    "    'use_mask': True\n",
    "}\n",
    "\n",
    "# Standard method\n",
    "explorer_std = MomentMapExplorer()\n",
    "explorer_std.load_cube(cube_path, mask_path)\n",
    "explorer_std.enable_prefix_sums(False)\n",
    "\n",
    "_, time_std = explorer_std.generate(**test_params)\n",
    "\n",
    "# Prefix-sum method\n",
    "explorer_prefix = MomentMapExplorer()\n",
    "explorer_prefix.load_cube(cube_path, mask_path)\n",
    "explorer_prefix.enable_prefix_sums(True)\n",
    "\n",
    "_, time_prefix = explorer_prefix.generate(**test_params)\n",
    "\n",
    "print(f\"Standard method: {time_std*1000:.1f} ms\")\n",
    "print(f\"Prefix-sum method: {time_prefix*1000:.1f} ms\")\n",
    "print(f\"Speedup: {time_std/time_prefix:.2f}x\")"
   ]
  }
 ],
 "metadata": {
  "kernelspec": {
   "display_name": "Python 3",
   "language": "python",
   "name": "python3"
  },
  "language_info": {
   "codemirror_mode": {
    "name": "ipython",
    "version": 3
   },
   "file_extension": ".py",
   "mimetype": "text/x-python",
   "name": "python",
   "nbconvert_exporter": "python",
   "pygments_lexer": "ipython3",
   "version": "3.10.0"
  }
 },
 "nbformat": 4,
 "nbformat_minor": 4
}
